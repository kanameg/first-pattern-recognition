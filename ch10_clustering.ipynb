{
 "cells": [
  {
   "cell_type": "code",
   "execution_count": null,
   "metadata": {},
   "outputs": [],
   "source": [
    "import pandas as pd\n",
    "from sklearn.datasets import load_iris"
   ]
  },
  {
   "cell_type": "code",
   "execution_count": null,
   "metadata": {},
   "outputs": [],
   "source": [
    "# \"\"\" Irisデータを読み込む \"\"\"\n",
    "\n",
    "# iris = load_iris()\n",
    "# iris_df = pd.DataFrame(iris.data, columns=iris.feature_names)\n",
    "# # iris_df[\"target\"] = iris.target\n",
    "# iris_df[\"species\"] = iris.target_names[iris.target]\n",
    "\n",
    "# iris_df"
   ]
  },
  {
   "cell_type": "code",
   "execution_count": null,
   "metadata": {},
   "outputs": [],
   "source": [
    "# \"\"\" データセットをCSVファイルに保存する \"\"\"\n",
    "# iris_df.to_csv(\"./datasets/iris.csv\", index=False)"
   ]
  },
  {
   "cell_type": "code",
   "execution_count": null,
   "metadata": {},
   "outputs": [],
   "source": [
    "\"\"\" データセットを読み込む \"\"\"\n",
    "iris_df = pd.read_csv(\"./datasets/iris.csv\")"
   ]
  },
  {
   "cell_type": "code",
   "execution_count": null,
   "metadata": {},
   "outputs": [],
   "source": [
    "\"\"\"speciesごとにデータを分割する\"\"\"\n",
    "\n",
    "iris_setosa_df = iris_df[iris_df[\"species\"] == \"setosa\"]\n",
    "iris_versicolor_df = iris_df[iris_df[\"species\"] == \"versicolor\"]\n",
    "iris_virginica_df = iris_df[iris_df[\"species\"] == \"virginica\"]"
   ]
  },
  {
   "cell_type": "code",
   "execution_count": null,
   "metadata": {},
   "outputs": [],
   "source": [
    "\"\"\"Irisデータを可視化する\"\"\"\n",
    "import matplotlib.pyplot as plt\n",
    "import seaborn as sns\n",
    "\n",
    "sns.set()\n",
    "sns.pairplot(iris_df, hue=\"species\", height=2.5)"
   ]
  },
  {
   "cell_type": "code",
   "execution_count": null,
   "metadata": {},
   "outputs": [],
   "source": [
    "\"\"\" 10.2 非階層型クラスタリング （K-平均法）\n",
    "\"\"\""
   ]
  },
  {
   "cell_type": "code",
   "execution_count": null,
   "metadata": {},
   "outputs": [],
   "source": [
    "\"\"\"k-means法でクラスタリング\n",
    "https://scikit-learn.org/stable/modules/generated/sklearn.cluster.KMeans.html\n",
    "\"\"\"\n",
    "from sklearn.cluster import KMeans\n",
    "\n",
    "wcss = []  # Within-Cluster Sum of Squares（クラスタ内誤差平方和）\n",
    "\n",
    "# クラスタ数1から10までで、k-means法のモデルを作成して、クラスタ内誤差平方和を計算する\n",
    "for i in range(1, 11):\n",
    "    kmeans = KMeans(\n",
    "        n_clusters=i, init=\"k-means++\", n_init=10, max_iter=300, random_state=42\n",
    "    )\n",
    "    x = iris_df[\n",
    "        [\n",
    "            \"sepal length (cm)\",\n",
    "            \"sepal width (cm)\",\n",
    "            \"petal length (cm)\",\n",
    "            \"petal width (cm)\",\n",
    "        ]\n",
    "    ]\n",
    "    kmeans.fit(x)\n",
    "    iris_df[f\"n_clusters:{i}\"] = kmeans.labels_\n",
    "    wcss.append(kmeans.inertia_)"
   ]
  },
  {
   "cell_type": "code",
   "execution_count": null,
   "metadata": {},
   "outputs": [],
   "source": [
    "iris_df"
   ]
  },
  {
   "cell_type": "code",
   "execution_count": null,
   "metadata": {},
   "outputs": [],
   "source": [
    "\"\"\"WCSSを描画してエルボー図を作成\"\"\"\n",
    "\n",
    "sns.lineplot(x=range(1, 11), y=wcss)\n",
    "plt.xlabel(\"Number of Clusters\")\n",
    "plt.ylabel(\"WCSS\")\n",
    "plt.show()"
   ]
  },
  {
   "cell_type": "code",
   "execution_count": null,
   "metadata": {},
   "outputs": [],
   "source": [
    "\"\"\"クラスタリング3の結果を可視化する\"\"\"\n",
    "\n",
    "# 不要な列を削除する。 今回はクラスタ3の結果のみを残す。\n",
    "drop_cols = [\n",
    "    \"species\",\n",
    "    \"n_clusters:1\",\n",
    "    \"n_clusters:2\",\n",
    "    # \"n_clusters:3\",\n",
    "    \"n_clusters:4\",\n",
    "    \"n_clusters:5\",\n",
    "    \"n_clusters:6\",\n",
    "    \"n_clusters:7\",\n",
    "    \"n_clusters:8\",\n",
    "    \"n_clusters:9\",\n",
    "    \"n_clusters:10\",\n",
    "]\n",
    "sns.pairplot(iris_df.drop(columns=drop_cols), hue=\"n_clusters:3\", height=2.5)"
   ]
  },
  {
   "cell_type": "code",
   "execution_count": null,
   "metadata": {},
   "outputs": [],
   "source": [
    "\"\"\"クラスタリング結果を可視化する\"\"\"\n",
    "\n",
    "from cProfile import label\n",
    "\n",
    "sns.scatterplot(\n",
    "    x=\"sepal length (cm)\", y=\"sepal width (cm)\", hue=\"n_clusters:3\", data=iris_df\n",
    ")\n",
    "plt.title(\"sepal length (cm) vs sepal width (cm)\")\n",
    "plt.show()\n",
    "\n",
    "sns.scatterplot(\n",
    "    x=\"petal length (cm)\", y=\"petal width (cm)\", hue=\"n_clusters:3\", data=iris_df\n",
    ")\n",
    "plt.title(\"petal length (cm) vs petal width (cm)\")\n",
    "plt.show()"
   ]
  },
  {
   "cell_type": "code",
   "execution_count": null,
   "metadata": {},
   "outputs": [],
   "source": []
  }
 ],
 "metadata": {
  "kernelspec": {
   "display_name": "venv",
   "language": "python",
   "name": "python3"
  },
  "language_info": {
   "codemirror_mode": {
    "name": "ipython",
    "version": 3
   },
   "file_extension": ".py",
   "mimetype": "text/x-python",
   "name": "python",
   "nbconvert_exporter": "python",
   "pygments_lexer": "ipython3",
   "version": "3.8.10"
  }
 },
 "nbformat": 4,
 "nbformat_minor": 2
}
